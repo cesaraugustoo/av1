{
 "cells": [
  {
   "cell_type": "markdown",
   "metadata": {},
   "source": [
    "Um projétil é lançado verticalmente para cima, a partir do solo, com velocidade inicial  ($v_0$ em m/s). O projétil está sujeito apenas à gravidade ($g = 9,8 m/s^2$). Para personalizar o exercício, cada aluno deve calcular a altura máxima atingida pelo projétil usando como valor de $v_0$ a soma dos dígitos do seu RA multiplicada por 2.\n",
    "\n",
    "Tarefas:\n",
    "- Solicite ao usuário o número do RA.\n",
    "- Calcule a soma dos dígitos do RA.\n",
    "- Defina  (soma dos dígitos do RA).\n",
    "- Calcule e imprima a altura máxima atingida pelo projétil usando a expressão: $h_{max} = \\frac{v_0^2}{2g}$\n",
    "- Mostre o valor de  utilizado e a altura máxima calculada.\n",
    "\n",
    "\n",
    "Exemplo de execução:\n",
    "\n",
    "- Digite seu RA: $12345$\n",
    "- Soma dos dígitos do RA: $15$\n",
    "- Velocidade inicial $v_0: 30 \\ m/s$\n",
    "- Altura máxima atingida: $45.92 \\ m$"
   ]
  },
  {
   "cell_type": "markdown",
   "metadata": {},
   "source": [
    "![alt text](BCD91EE7-190D-432F-8A84-E6C499CFCEC0.png)"
   ]
  },
  {
   "cell_type": "code",
   "execution_count": 1,
   "metadata": {},
   "outputs": [
    {
     "name": "stdout",
     "output_type": "stream",
     "text": [
      "Soma dos dígitos do RA: 18\n",
      "Velocidade inicial v0: 36 m/s\n",
      "Altura máxima atingida: 66.12 m\n"
     ]
    }
   ],
   "source": [
    "# Solicita o RA do usuário\n",
    "ra = input(\"Digite seu RA: \")\n",
    "\n",
    "# Calcula a soma dos dígitos do RA\n",
    "soma_digitos = sum(int(digito) for digito in ra)\n",
    "\n",
    "# Define a velocidade inicial (v0 = 2 * soma dos dígitos)\n",
    "v0 = 2 * soma_digitos\n",
    "\n",
    "# Define a aceleração da gravidade\n",
    "g = 9.8  # m/s²\n",
    "\n",
    "# Calcula a altura máxima usando a fórmula h_max = v0²/(2*g)\n",
    "h_max = (v0 ** 2) / (2 * g)\n",
    "\n",
    "# Mostra os resultados\n",
    "print(f\"Soma dos dígitos do RA: {soma_digitos}\")\n",
    "print(f\"Velocidade inicial v0: {v0} m/s\")\n",
    "print(f\"Altura máxima atingida: {h_max:.2f} m\")"
   ]
  },
  {
   "cell_type": "code",
   "execution_count": null,
   "metadata": {},
   "outputs": [],
   "source": []
  }
 ],
 "metadata": {
  "kernelspec": {
   "display_name": "base",
   "language": "python",
   "name": "python3"
  },
  "language_info": {
   "codemirror_mode": {
    "name": "ipython",
    "version": 3
   },
   "file_extension": ".py",
   "mimetype": "text/x-python",
   "name": "python",
   "nbconvert_exporter": "python",
   "pygments_lexer": "ipython3",
   "version": "3.12.7"
  }
 },
 "nbformat": 4,
 "nbformat_minor": 2
}
